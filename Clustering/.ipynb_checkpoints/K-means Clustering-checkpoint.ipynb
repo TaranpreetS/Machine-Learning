{
 "cells": [
  {
   "cell_type": "markdown",
   "metadata": {},
   "source": [
    "# K-means clustering"
   ]
  },
  {
   "cell_type": "code",
   "execution_count": null,
   "metadata": {},
   "outputs": [],
   "source": [
    "km = KMeans(n_clusters=\"Cluster no.\",\n",
    "            init='random',\n",
    "            n_init=50,\n",
    "            max_iter=500,\n",
    "            random_state=0)\n",
    "y_km=km.fit_predict(\"matrix on which u want to perform clustering\")\n",
    "y_km\n",
    "cc = km.cluster_centers_\n",
    "cc\n",
    "c=pd.Series(y_km)\n",
    "\"add name of file to add cluster no. in column\"['cluster_no']=c\n"
   ]
  }
 ],
 "metadata": {
  "kernelspec": {
   "display_name": "Python 2",
   "language": "python",
   "name": "python2"
  },
  "language_info": {
   "codemirror_mode": {
    "name": "ipython",
    "version": 2
   },
   "file_extension": ".py",
   "mimetype": "text/x-python",
   "name": "python",
   "nbconvert_exporter": "python",
   "pygments_lexer": "ipython2",
   "version": "2.7.14"
  }
 },
 "nbformat": 4,
 "nbformat_minor": 2
}
