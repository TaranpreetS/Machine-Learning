{
 "cells": [
  {
   "cell_type": "markdown",
   "metadata": {},
   "source": [
    "# Dendogram to find no. of Clusters"
   ]
  },
  {
   "cell_type": "code",
   "execution_count": null,
   "metadata": {},
   "outputs": [],
   "source": [
    "km1=KMeans(n_clusters=500,init='random',n_init=5,max_iter=300,random_state=0)\n",
    "km1.fit_predict(store)\n",
    "cm=km1.cluster_centers_\n",
    "cm\n",
    "z = hac.linkage(cm, method=\"centroid\")\n",
    "plt.figure(figsize=(25, 15))\n",
    "plt.title('Hierarchical Clustering Dendrogram')\n",
    "plt.xlabel('cluster_centre')\n",
    "plt.ylabel('distance')\n",
    "dendrogram(z)\n",
    "\n",
    "plt.show()"
   ]
  }
 ],
 "metadata": {
  "kernelspec": {
   "display_name": "Python 2",
   "language": "python",
   "name": "python2"
  },
  "language_info": {
   "codemirror_mode": {
    "name": "ipython",
    "version": 2
   },
   "file_extension": ".py",
   "mimetype": "text/x-python",
   "name": "python",
   "nbconvert_exporter": "python",
   "pygments_lexer": "ipython2",
   "version": "2.7.14"
  }
 },
 "nbformat": 4,
 "nbformat_minor": 2
}
